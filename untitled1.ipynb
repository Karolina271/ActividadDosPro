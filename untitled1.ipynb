{
  "nbformat": 4,
  "nbformat_minor": 0,
  "metadata": {
    "colab": {
      "provenance": [],
      "toc_visible": true,
      "include_colab_link": true
    },
    "kernelspec": {
      "name": "python3",
      "display_name": "Python 3"
    },
    "language_info": {
      "name": "python"
    }
  },
  "cells": [
    {
      "cell_type": "markdown",
      "metadata": {
        "id": "view-in-github",
        "colab_type": "text"
      },
      "source": [
        "<a href=\"https://colab.research.google.com/github/Karolina271/ActividadDosPro/blob/main/untitled1.ipynb\" target=\"_parent\"><img src=\"https://colab.research.google.com/assets/colab-badge.svg\" alt=\"Open In Colab\"/></a>"
      ]
    },
    {
      "cell_type": "code",
      "execution_count": 49,
      "metadata": {
        "id": "x15ZoEHa-8ax",
        "colab": {
          "base_uri": "https://localhost:8080/"
        },
        "outputId": "dc391053-a057-402a-c0ed-c82533696e1c"
      },
      "outputs": [
        {
          "output_type": "stream",
          "name": "stdout",
          "text": [
            "El elemento 6 está presente en la tupla.\n"
          ]
        }
      ],
      "source": [
        "# Crea un programa que verifique si un elemento dado está presente en una tupla específica.\n",
        "def verificar_elemento(tupla, elemento):\n",
        "  if elemento in tupla:\n",
        "      return True\n",
        "  else:\n",
        "      return False\n",
        "\n",
        "\n",
        "\n",
        "mi_tupla = (2, 4, 6, 8)\n",
        "elemento_dado = 6\n",
        "\n",
        "if verificar_elemento(mi_tupla, elemento_dado):\n",
        "    print(f\"El elemento {elemento_dado} está presente en la tupla.\")\n",
        "else:\n",
        "    print(f\"El elemento {elemento_dado} no está presente en la tupla.\")"
      ]
    },
    {
      "cell_type": "code",
      "source": [
        "# Escribe un programa que tome un número como entrada y determine si es positivo, negativo o cero.\n",
        "numero = float(input(\"Ingrese un número: \"))\n",
        "\n",
        "if numero > 0:\n",
        "    print(\"El número ingresado es positivo.\")\n",
        "elif numero < 0:\n",
        "    print(\"El número ingresado es negativo.\")\n",
        "else:\n",
        "    print(\"El número ingresado es cero.\")\n"
      ],
      "metadata": {
        "id": "uuSBA6o5BBfk",
        "outputId": "ac517efc-6342-4b0b-d613-7cfc870e05d1",
        "colab": {
          "base_uri": "https://localhost:8080/"
        }
      },
      "execution_count": 5,
      "outputs": [
        {
          "output_type": "stream",
          "name": "stdout",
          "text": [
            "Ingrese un número: -3\n",
            "El número ingresado es negativo.\n"
          ]
        }
      ]
    },
    {
      "cell_type": "code",
      "source": [
        "# Desarrolla un programa que sume solo los elementos pares de una lista dada.\n",
        "numeros = [1, 2, 3, 4, 5, 6, 7, 8, 9]\n",
        "\n",
        "suma_pares = sum(numero for numero in numeros if numero % 2 == 0)\n",
        "\n",
        "print(\"La suma de los números pares en la lista es:\", suma_pares)"
      ],
      "metadata": {
        "id": "zNtJQJQTTPmg",
        "outputId": "cbd3127e-8404-482c-8aca-588070974927",
        "colab": {
          "base_uri": "https://localhost:8080/"
        }
      },
      "execution_count": 35,
      "outputs": [
        {
          "output_type": "stream",
          "name": "stdout",
          "text": [
            "La suma de los números pares en la lista es: 20\n"
          ]
        }
      ]
    },
    {
      "cell_type": "code",
      "source": [
        "# crea un programa que imprima las claves de un diccionario si su valor asociado es un número par.\n",
        "\n",
        "\n",
        "mi_diccionario = {'a': 2, 'b': 10, 'c': 7, 'd': 24, 'e': 1}\n",
        "\n",
        "print(\"Claves con valores pares:\")\n",
        "imprimir_claves_pares(mi_diccionario)"
      ],
      "metadata": {
        "id": "QMUGAzogZtqN",
        "outputId": "dbd9d42f-7cab-4957-9e22-b8164e04e69b",
        "colab": {
          "base_uri": "https://localhost:8080/"
        }
      },
      "execution_count": 52,
      "outputs": [
        {
          "output_type": "stream",
          "name": "stdout",
          "text": [
            "Claves con valores pares:\n",
            "a\n",
            "b\n",
            "d\n"
          ]
        }
      ]
    },
    {
      "cell_type": "code",
      "source": [
        "\n",
        "# Desarrolla un programa que recorra una tupla y imprima los elementos que sean mayores que un valor específico.\n",
        "\n",
        "mi_tupla = (4, 2, 9, 12, 7, 3, 21, 5)\n",
        "valor_especifico = 8\n",
        "\n",
        "print(\"Elementos mayores que\", valor_especifico, \"en la tupla:\")\n",
        "elementos_mayores_que(mi_tupla, valor_especifico)\n"
      ],
      "metadata": {
        "id": "qmP1A1nJaZwM",
        "outputId": "276a398d-78a4-45b0-fa69-86a0eb78ad9b",
        "colab": {
          "base_uri": "https://localhost:8080/"
        }
      },
      "execution_count": 47,
      "outputs": [
        {
          "output_type": "stream",
          "name": "stdout",
          "text": [
            "Elementos mayores que 8 en la tupla:\n",
            "9\n",
            "12\n",
            "21\n"
          ]
        }
      ]
    },
    {
      "cell_type": "code",
      "source": [
        "# Ejemplo de uso:\n",
        "mi_lista = [10, 20, 30, 40, 50, 60, 70, 80, 90, 100]\n",
        "inicio_rango = 30\n",
        "fin_rango = 70\n",
        "\n",
        "cantidad_en_rango = contar_elementos_en_rango(mi_lista, inicio_rango, fin_rango)\n",
        "print(\"Cantidad de elementos en el rango [\", inicio_rango, \",\", fin_rango, \"]:\", cantidad_en_rango)\n"
      ],
      "metadata": {
        "id": "g2QMTWjNhan6",
        "outputId": "7d03b7bd-1494-496c-b67a-0876225c973d",
        "colab": {
          "base_uri": "https://localhost:8080/",
          "height": 193
        }
      },
      "execution_count": 65,
      "outputs": [
        {
          "output_type": "error",
          "ename": "NameError",
          "evalue": "name 'contar_elementos_en_rango' is not defined",
          "traceback": [
            "\u001b[0;31m---------------------------------------------------------------------------\u001b[0m",
            "\u001b[0;31mNameError\u001b[0m                                 Traceback (most recent call last)",
            "\u001b[0;32m<ipython-input-65-0b7175fcc501>\u001b[0m in \u001b[0;36m<cell line: 6>\u001b[0;34m()\u001b[0m\n\u001b[1;32m      4\u001b[0m \u001b[0mfin_rango\u001b[0m \u001b[0;34m=\u001b[0m \u001b[0;36m70\u001b[0m\u001b[0;34m\u001b[0m\u001b[0;34m\u001b[0m\u001b[0m\n\u001b[1;32m      5\u001b[0m \u001b[0;34m\u001b[0m\u001b[0m\n\u001b[0;32m----> 6\u001b[0;31m \u001b[0mcantidad_en_rango\u001b[0m \u001b[0;34m=\u001b[0m \u001b[0mcontar_elementos_en_rango\u001b[0m\u001b[0;34m(\u001b[0m\u001b[0mmi_lista\u001b[0m\u001b[0;34m,\u001b[0m \u001b[0minicio_rango\u001b[0m\u001b[0;34m,\u001b[0m \u001b[0mfin_rango\u001b[0m\u001b[0;34m)\u001b[0m\u001b[0;34m\u001b[0m\u001b[0;34m\u001b[0m\u001b[0m\n\u001b[0m\u001b[1;32m      7\u001b[0m \u001b[0mprint\u001b[0m\u001b[0;34m(\u001b[0m\u001b[0;34m\"Cantidad de elementos en el rango [\"\u001b[0m\u001b[0;34m,\u001b[0m \u001b[0minicio_rango\u001b[0m\u001b[0;34m,\u001b[0m \u001b[0;34m\",\"\u001b[0m\u001b[0;34m,\u001b[0m \u001b[0mfin_rango\u001b[0m\u001b[0;34m,\u001b[0m \u001b[0;34m\"]:\"\u001b[0m\u001b[0;34m,\u001b[0m \u001b[0mcantidad_en_rango\u001b[0m\u001b[0;34m)\u001b[0m\u001b[0;34m\u001b[0m\u001b[0;34m\u001b[0m\u001b[0m\n",
            "\u001b[0;31mNameError\u001b[0m: name 'contar_elementos_en_rango' is not defined"
          ]
        }
      ]
    }
  ]
}