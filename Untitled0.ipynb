{
  "nbformat": 4,
  "nbformat_minor": 0,
  "metadata": {
    "colab": {
      "provenance": [],
      "authorship_tag": "ABX9TyNuPA5uKs3tI3V69+1xZCMN",
      "include_colab_link": true
    },
    "kernelspec": {
      "name": "python3",
      "display_name": "Python 3"
    },
    "language_info": {
      "name": "python"
    }
  },
  "cells": [
    {
      "cell_type": "markdown",
      "metadata": {
        "id": "view-in-github",
        "colab_type": "text"
      },
      "source": [
        "<a href=\"https://colab.research.google.com/github/Karolina271/ActividadDosPro/blob/main/Untitled0.ipynb\" target=\"_parent\"><img src=\"https://colab.research.google.com/assets/colab-badge.svg\" alt=\"Open In Colab\"/></a>"
      ]
    },
    {
      "cell_type": "code",
      "execution_count": 8,
      "metadata": {
        "colab": {
          "base_uri": "https://localhost:8080/"
        },
        "id": "EGAJwAfwTTua",
        "outputId": "6839b08c-86c2-4db8-cf68-000e1eb7346f"
      },
      "outputs": [
        {
          "output_type": "stream",
          "name": "stdout",
          "text": [
            "El elemento 6 está presente en la tupla.\n"
          ]
        }
      ],
      "source": [
        "def verificar_elemento(tupla, elemento):\n",
        "  if elemento in tupla:\n",
        "      return True\n",
        "  else:\n",
        "      return False\n",
        "\n",
        "\n",
        "\n",
        "mi_tupla = (2, 4, 6, 8)\n",
        "elemento_dado = 6\n",
        "\n",
        "if verificar_elemento(mi_tupla, elemento_dado):\n",
        "    print(f\"El elemento {elemento_dado} está presente en la tupla.\")\n",
        "else:\n",
        "    print(f\"El elemento {elemento_dado} no está presente en la tupla.\")"
      ]
    },
    {
      "cell_type": "code",
      "source": [],
      "metadata": {
        "id": "uD-bhmMOUpVc"
      },
      "execution_count": null,
      "outputs": []
    }
  ]
}